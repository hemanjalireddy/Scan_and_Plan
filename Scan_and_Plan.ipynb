{
  "nbformat": 4,
  "nbformat_minor": 0,
  "metadata": {
    "colab": {
      "provenance": [],
      "gpuType": "T4",
      "mount_file_id": "1Pxsq4oSc6CF_WVpZIFyR51phX9No8n_8",
      "authorship_tag": "ABX9TyNo9fdL4z7x98NjWpmTbH97"
    },
    "kernelspec": {
      "name": "python3",
      "display_name": "Python 3"
    },
    "language_info": {
      "name": "python"
    },
    "accelerator": "GPU"
  },
  "cells": [
    {
      "cell_type": "code",
      "source": [
        "from google.colab import drive\n",
        "drive.mount('/content/drive')"
      ],
      "metadata": {
        "colab": {
          "base_uri": "https://localhost:8080/"
        },
        "id": "C86Fhqwz9SlN",
        "outputId": "cab29a81-731e-4740-c5ce-e75d5f794574"
      },
      "execution_count": 1,
      "outputs": [
        {
          "output_type": "stream",
          "name": "stdout",
          "text": [
            "Drive already mounted at /content/drive; to attempt to forcibly remount, call drive.mount(\"/content/drive\", force_remount=True).\n"
          ]
        }
      ]
    },
    {
      "cell_type": "markdown",
      "source": [
        "#Import Necessary Libraries"
      ],
      "metadata": {
        "id": "krCPkhvfjlyi"
      }
    },
    {
      "cell_type": "code",
      "execution_count": 11,
      "metadata": {
        "id": "XS2r2_LQhYU4"
      },
      "outputs": [],
      "source": [
        "import cv2\n",
        "import os\n",
        "from PIL import Image\n",
        "import numpy as np\n",
        "from sklearn.model_selection import train_test_split\n",
        "import tensorflow as tf\n",
        "from tensorflow import keras\n",
        "from keras.utils import normalize\n",
        "from keras.models import Sequential\n",
        "from keras.layers import Conv2D , MaxPooling2D , Dropout ,Flatten , Dense"
      ]
    },
    {
      "cell_type": "markdown",
      "source": [
        "#Load the dataset"
      ],
      "metadata": {
        "id": "goP7NSTAjzqk"
      }
    },
    {
      "cell_type": "code",
      "source": [
        "no_tumor_scans = os.listdir('/content/drive/MyDrive/Dataset/no') #store all the scans with no tumor in a array\n",
        "tumor_scans = os.listdir('/content/drive/MyDrive/Dataset/yes')#store all the scans with tumor in a array\n"
      ],
      "metadata": {
        "id": "Xc7EjTHrj30T"
      },
      "execution_count": 3,
      "outputs": []
    },
    {
      "cell_type": "markdown",
      "source": [
        "#Declare necessary varibles"
      ],
      "metadata": {
        "id": "m2kIiUy4_ny6"
      }
    },
    {
      "cell_type": "code",
      "source": [
        "dataset = []\n",
        "label = []"
      ],
      "metadata": {
        "id": "08TFlQBq_qO6"
      },
      "execution_count": 4,
      "outputs": []
    },
    {
      "cell_type": "markdown",
      "source": [
        "#Data Preprocessing"
      ],
      "metadata": {
        "id": "Jtw80Lub9lls"
      }
    },
    {
      "cell_type": "code",
      "source": [
        "for i , image_name in enumerate(no_tumor_scans):\n",
        "  if(image_name.split('.')[1] == 'jpg'):\n",
        "    image = cv2.imread('/content/drive/MyDrive/Dataset/no/'+image_name) #reading images\n",
        "    image = Image.fromarray(image , 'RGB') #convert to RGB format for compatibility with opencv\n",
        "    image = image.resize((64,64))\n",
        "    dataset.append(np.array(image))\n",
        "    label.append(0) #no brain_tumor has label of 0\n",
        "\n",
        "\n",
        "for i , image_name in enumerate(tumor_scans):\n",
        "  if(image_name.split('.')[1] == 'jpg'):\n",
        "    image = cv2.imread('/content/drive/MyDrive/Dataset/yes/'+image_name) #reading images\n",
        "    image = Image.fromarray(image , 'RGB') #convert to RGB format for compatibility with opencv\n",
        "    image = image.resize((64,64))\n",
        "    dataset.append(np.array(image))\n",
        "    label.append(1) #no brain_tumor has label of 0"
      ],
      "metadata": {
        "id": "ag_XkMFw9onq"
      },
      "execution_count": 5,
      "outputs": []
    },
    {
      "cell_type": "code",
      "source": [
        "dataset = np.array(dataset)\n",
        "label = np.array(label)"
      ],
      "metadata": {
        "id": "LzNsZNpdBIxJ"
      },
      "execution_count": 6,
      "outputs": []
    },
    {
      "cell_type": "markdown",
      "source": [
        "##Splitting dataset into train and test set"
      ],
      "metadata": {
        "id": "NzhmnnOsBvBr"
      }
    },
    {
      "cell_type": "code",
      "source": [
        "x_train , x_test , y_train , y_test = train_test_split(dataset , label , test_size = 0.2 , random_state = 0)\n"
      ],
      "metadata": {
        "id": "ofyQgwezBx6_"
      },
      "execution_count": 7,
      "outputs": []
    },
    {
      "cell_type": "markdown",
      "source": [
        "##Normalizing the data"
      ],
      "metadata": {
        "id": "C93bO9axGA9W"
      }
    },
    {
      "cell_type": "code",
      "source": [
        "x_train = normalize(x_train)\n",
        "x_test = normalize(x_test)"
      ],
      "metadata": {
        "id": "U1xW6c1FFYpZ"
      },
      "execution_count": 10,
      "outputs": []
    },
    {
      "cell_type": "markdown",
      "source": [
        "#Building the Model"
      ],
      "metadata": {
        "id": "Y0rAq-ymGtYJ"
      }
    },
    {
      "cell_type": "code",
      "source": [],
      "metadata": {
        "id": "hN6H_OHNGuwA"
      },
      "execution_count": null,
      "outputs": []
    }
  ]
}