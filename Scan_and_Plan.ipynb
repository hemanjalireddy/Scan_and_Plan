{
  "nbformat": 4,
  "nbformat_minor": 0,
  "metadata": {
    "colab": {
      "provenance": [],
      "gpuType": "T4",
      "mount_file_id": "1Pxsq4oSc6CF_WVpZIFyR51phX9No8n_8",
      "authorship_tag": "ABX9TyPKEdCv3Ro1GlY41DYJNxrZ"
    },
    "kernelspec": {
      "name": "python3",
      "display_name": "Python 3"
    },
    "language_info": {
      "name": "python"
    },
    "accelerator": "GPU"
  },
  "cells": [
    {
      "cell_type": "code",
      "source": [
        "from google.colab import drive\n",
        "drive.mount('/content/drive')"
      ],
      "metadata": {
        "colab": {
          "base_uri": "https://localhost:8080/"
        },
        "id": "C86Fhqwz9SlN",
        "outputId": "cab29a81-731e-4740-c5ce-e75d5f794574"
      },
      "execution_count": 1,
      "outputs": [
        {
          "output_type": "stream",
          "name": "stdout",
          "text": [
            "Drive already mounted at /content/drive; to attempt to forcibly remount, call drive.mount(\"/content/drive\", force_remount=True).\n"
          ]
        }
      ]
    },
    {
      "cell_type": "markdown",
      "source": [
        "#Import Necessary Libraries"
      ],
      "metadata": {
        "id": "krCPkhvfjlyi"
      }
    },
    {
      "cell_type": "code",
      "execution_count": 20,
      "metadata": {
        "id": "XS2r2_LQhYU4"
      },
      "outputs": [],
      "source": [
        "import cv2\n",
        "import os\n",
        "from PIL import Image\n",
        "import numpy as np\n",
        "from sklearn.model_selection import train_test_split\n",
        "import tensorflow as tf\n",
        "from tensorflow import keras\n",
        "from keras.utils import normalize , to_categorical\n",
        "from keras.models import Sequential\n",
        "from keras.layers import Conv2D , MaxPooling2D , Dropout ,Flatten , Dense , Activation"
      ]
    },
    {
      "cell_type": "markdown",
      "source": [
        "#Load the dataset"
      ],
      "metadata": {
        "id": "goP7NSTAjzqk"
      }
    },
    {
      "cell_type": "code",
      "source": [
        "no_tumor_scans = os.listdir('/content/drive/MyDrive/Dataset/no') #store all the scans with no tumor in a array\n",
        "tumor_scans = os.listdir('/content/drive/MyDrive/Dataset/yes')#store all the scans with tumor in a array\n"
      ],
      "metadata": {
        "id": "Xc7EjTHrj30T"
      },
      "execution_count": 3,
      "outputs": []
    },
    {
      "cell_type": "markdown",
      "source": [
        "#Declare necessary varibles"
      ],
      "metadata": {
        "id": "m2kIiUy4_ny6"
      }
    },
    {
      "cell_type": "code",
      "source": [
        "dataset = []\n",
        "label = []"
      ],
      "metadata": {
        "id": "08TFlQBq_qO6"
      },
      "execution_count": 4,
      "outputs": []
    },
    {
      "cell_type": "markdown",
      "source": [
        "#Data Preprocessing"
      ],
      "metadata": {
        "id": "Jtw80Lub9lls"
      }
    },
    {
      "cell_type": "code",
      "source": [
        "for i , image_name in enumerate(no_tumor_scans):\n",
        "  if(image_name.split('.')[1] == 'jpg'):\n",
        "    image = cv2.imread('/content/drive/MyDrive/Dataset/no/'+image_name) #reading images\n",
        "    image = Image.fromarray(image , 'RGB') #convert to RGB format for compatibility with opencv\n",
        "    image = image.resize((64,64))\n",
        "    dataset.append(np.array(image))\n",
        "    label.append(0) #no brain_tumor has label of 0\n",
        "\n",
        "\n",
        "for i , image_name in enumerate(tumor_scans):\n",
        "  if(image_name.split('.')[1] == 'jpg'):\n",
        "    image = cv2.imread('/content/drive/MyDrive/Dataset/yes/'+image_name) #reading images\n",
        "    image = Image.fromarray(image , 'RGB') #convert to RGB format for compatibility with opencv\n",
        "    image = image.resize((64,64))\n",
        "    dataset.append(np.array(image))\n",
        "    label.append(1) #no brain_tumor has label of 0"
      ],
      "metadata": {
        "id": "ag_XkMFw9onq"
      },
      "execution_count": 5,
      "outputs": []
    },
    {
      "cell_type": "code",
      "source": [
        "dataset = np.array(dataset)\n",
        "label = np.array(label)"
      ],
      "metadata": {
        "id": "LzNsZNpdBIxJ"
      },
      "execution_count": 6,
      "outputs": []
    },
    {
      "cell_type": "markdown",
      "source": [
        "##Splitting dataset into train and test set"
      ],
      "metadata": {
        "id": "NzhmnnOsBvBr"
      }
    },
    {
      "cell_type": "code",
      "source": [
        "x_train , x_test , y_train , y_test = train_test_split(dataset , label , test_size = 0.2 , random_state = 0)\n"
      ],
      "metadata": {
        "id": "ofyQgwezBx6_"
      },
      "execution_count": 34,
      "outputs": []
    },
    {
      "cell_type": "markdown",
      "source": [
        "##Normalizing the data"
      ],
      "metadata": {
        "id": "C93bO9axGA9W"
      }
    },
    {
      "cell_type": "code",
      "source": [
        "x_train = normalize(x_train)\n",
        "x_test = normalize(x_test)"
      ],
      "metadata": {
        "id": "U1xW6c1FFYpZ"
      },
      "execution_count": 35,
      "outputs": []
    },
    {
      "cell_type": "markdown",
      "source": [
        "##convert y_train and y_test to categorical"
      ],
      "metadata": {
        "id": "ZiZZY1ySM6pu"
      }
    },
    {
      "cell_type": "code",
      "source": [
        "y_train = to_categorical(y_train , num_classes = 2)\n",
        "y_test = to_categorical(y_test , num_classes = 2)"
      ],
      "metadata": {
        "id": "zTSeDc30M-fe"
      },
      "execution_count": 23,
      "outputs": []
    },
    {
      "cell_type": "code",
      "source": [
        "y_train.shape"
      ],
      "metadata": {
        "colab": {
          "base_uri": "https://localhost:8080/"
        },
        "id": "sIVR4UeqQnL8",
        "outputId": "74a23bc7-0309-4eb0-91eb-fa00a2dec6e4"
      },
      "execution_count": 33,
      "outputs": [
        {
          "output_type": "execute_result",
          "data": {
            "text/plain": [
              "(2400, 2, 2)"
            ]
          },
          "metadata": {},
          "execution_count": 33
        }
      ]
    },
    {
      "cell_type": "markdown",
      "source": [
        "#Building the Model"
      ],
      "metadata": {
        "id": "Y0rAq-ymGtYJ"
      }
    },
    {
      "cell_type": "code",
      "source": [
        "model = Sequential()\n",
        "model.add(Conv2D(32 , (3,3) , input_shape = (64,64,3)))\n",
        "model.add(Activation('relu'))\n",
        "model.add(MaxPooling2D(pool_size=(2,2)))\n",
        "\n",
        "model.add(Conv2D(32 , (3,3) , kernel_initializer='he_uniform'))\n",
        "model.add(Activation('relu'))\n",
        "model.add(MaxPooling2D(pool_size=(2,2)))\n",
        "\n",
        "model.add(Conv2D(64 , (3,3) , kernel_initializer='he_uniform'))\n",
        "model.add(Activation('relu'))\n",
        "model.add(MaxPooling2D(pool_size=(2,2)))\n",
        "\n",
        "model.add(Flatten())\n",
        "model.add(Dense(64))\n",
        "model.add(Activation('relu'))\n",
        "model.add(Dropout(0.5))\n",
        "\n",
        "#output layer\n",
        "model.add(Dense(1))\n",
        "model.add(Activation('sigmoid'))\n",
        "\n",
        "model.compile(loss = 'binary_crossentropy' , optimizer = 'adam' , metrics = ['accuracy'])"
      ],
      "metadata": {
        "id": "hN6H_OHNGuwA"
      },
      "execution_count": 39,
      "outputs": []
    },
    {
      "cell_type": "markdown",
      "source": [
        "##Training the Model"
      ],
      "metadata": {
        "id": "RxnYYu7KLB4W"
      }
    },
    {
      "cell_type": "code",
      "source": [
        "model.fit(x_train , y_train , batch_size = 16 , verbose=1 , epochs = 10 , validation_data = (x_test , y_test) , shuffle = False)\n",
        "model.save('BrainTumor10Epochs.h5')"
      ],
      "metadata": {
        "colab": {
          "base_uri": "https://localhost:8080/"
        },
        "id": "BFRVp8vrLHZx",
        "outputId": "7781a1cd-81c6-4124-a8b8-60f742cfb6d6"
      },
      "execution_count": 40,
      "outputs": [
        {
          "output_type": "stream",
          "name": "stdout",
          "text": [
            "Epoch 1/10\n",
            "150/150 [==============================] - 3s 7ms/step - loss: 0.6268 - accuracy: 0.6125 - val_loss: 0.5780 - val_accuracy: 0.6383\n",
            "Epoch 2/10\n",
            "150/150 [==============================] - 1s 5ms/step - loss: 0.5482 - accuracy: 0.6921 - val_loss: 0.5461 - val_accuracy: 0.6650\n",
            "Epoch 3/10\n",
            "150/150 [==============================] - 1s 6ms/step - loss: 0.4999 - accuracy: 0.7146 - val_loss: 0.5215 - val_accuracy: 0.6733\n",
            "Epoch 4/10\n",
            "150/150 [==============================] - 1s 7ms/step - loss: 0.4632 - accuracy: 0.7400 - val_loss: 0.4959 - val_accuracy: 0.6900\n",
            "Epoch 5/10\n",
            "150/150 [==============================] - 1s 7ms/step - loss: 0.4260 - accuracy: 0.7504 - val_loss: 0.4808 - val_accuracy: 0.7000\n",
            "Epoch 6/10\n",
            "150/150 [==============================] - 1s 6ms/step - loss: 0.3860 - accuracy: 0.7717 - val_loss: 0.4258 - val_accuracy: 0.7350\n",
            "Epoch 7/10\n",
            "150/150 [==============================] - 1s 5ms/step - loss: 0.3431 - accuracy: 0.8108 - val_loss: 0.4060 - val_accuracy: 0.7517\n",
            "Epoch 8/10\n",
            "150/150 [==============================] - 1s 5ms/step - loss: 0.3190 - accuracy: 0.8238 - val_loss: 0.4238 - val_accuracy: 0.7550\n",
            "Epoch 9/10\n",
            "150/150 [==============================] - 1s 5ms/step - loss: 0.2870 - accuracy: 0.8333 - val_loss: 0.4410 - val_accuracy: 0.7450\n",
            "Epoch 10/10\n",
            "150/150 [==============================] - 1s 5ms/step - loss: 0.2691 - accuracy: 0.8371 - val_loss: 0.4544 - val_accuracy: 0.7417\n"
          ]
        },
        {
          "output_type": "stream",
          "name": "stderr",
          "text": [
            "/usr/local/lib/python3.10/dist-packages/keras/src/engine/training.py:3000: UserWarning: You are saving your model as an HDF5 file via `model.save()`. This file format is considered legacy. We recommend using instead the native Keras format, e.g. `model.save('my_model.keras')`.\n",
            "  saving_api.save_model(\n"
          ]
        }
      ]
    }
  ]
}