{
  "nbformat": 4,
  "nbformat_minor": 0,
  "metadata": {
    "colab": {
      "provenance": [],
      "gpuType": "T4",
      "mount_file_id": "1Pxsq4oSc6CF_WVpZIFyR51phX9No8n_8",
      "authorship_tag": "ABX9TyMsMglLlZO16JaWym3IuYj8"
    },
    "kernelspec": {
      "name": "python3",
      "display_name": "Python 3"
    },
    "language_info": {
      "name": "python"
    },
    "accelerator": "GPU"
  },
  "cells": [
    {
      "cell_type": "code",
      "source": [
        "from google.colab import drive\n",
        "drive.mount('/content/drive')"
      ],
      "metadata": {
        "colab": {
          "base_uri": "https://localhost:8080/"
        },
        "id": "C86Fhqwz9SlN",
        "outputId": "cab29a81-731e-4740-c5ce-e75d5f794574"
      },
      "execution_count": null,
      "outputs": [
        {
          "output_type": "stream",
          "name": "stdout",
          "text": [
            "Drive already mounted at /content/drive; to attempt to forcibly remount, call drive.mount(\"/content/drive\", force_remount=True).\n"
          ]
        }
      ]
    },
    {
      "cell_type": "markdown",
      "source": [
        "#Import Necessary Libraries"
      ],
      "metadata": {
        "id": "krCPkhvfjlyi"
      }
    },
    {
      "cell_type": "code",
      "execution_count": null,
      "metadata": {
        "id": "XS2r2_LQhYU4"
      },
      "outputs": [],
      "source": [
        "import cv2\n",
        "import os\n",
        "from PIL import Image\n",
        "import numpy as np\n",
        "from sklearn.model_selection import train_test_split\n",
        "import tensorflow as tf\n",
        "from tensorflow import keras\n",
        "from keras.utils import normalize , to_categorical\n",
        "from keras.models import Sequential\n",
        "from keras.layers import Conv2D , MaxPooling2D , Dropout ,Flatten , Dense , Activation"
      ]
    },
    {
      "cell_type": "markdown",
      "source": [
        "#Load the dataset"
      ],
      "metadata": {
        "id": "goP7NSTAjzqk"
      }
    },
    {
      "cell_type": "code",
      "source": [
        "no_tumor_scans = os.listdir('/content/drive/MyDrive/Dataset/no') #store all the scans with no tumor in a array\n",
        "tumor_scans = os.listdir('/content/drive/MyDrive/Dataset/yes')#store all the scans with tumor in a array\n"
      ],
      "metadata": {
        "id": "Xc7EjTHrj30T"
      },
      "execution_count": null,
      "outputs": []
    },
    {
      "cell_type": "markdown",
      "source": [
        "#Declare necessary varibles"
      ],
      "metadata": {
        "id": "m2kIiUy4_ny6"
      }
    },
    {
      "cell_type": "code",
      "source": [
        "dataset = []\n",
        "label = []"
      ],
      "metadata": {
        "id": "08TFlQBq_qO6"
      },
      "execution_count": null,
      "outputs": []
    },
    {
      "cell_type": "markdown",
      "source": [
        "#Data Preprocessing"
      ],
      "metadata": {
        "id": "Jtw80Lub9lls"
      }
    },
    {
      "cell_type": "code",
      "source": [
        "for i , image_name in enumerate(no_tumor_scans):\n",
        "  if(image_name.split('.')[1] == 'jpg'):\n",
        "    image = cv2.imread('/content/drive/MyDrive/Dataset/no/'+image_name) #reading images\n",
        "    image = Image.fromarray(image , 'RGB') #convert to RGB format for compatibility with opencv\n",
        "    image = image.resize((64,64))\n",
        "    dataset.append(np.array(image))\n",
        "    label.append(0) #no brain_tumor has label of 0\n",
        "\n",
        "\n",
        "for i , image_name in enumerate(tumor_scans):\n",
        "  if(image_name.split('.')[1] == 'jpg'):\n",
        "    image = cv2.imread('/content/drive/MyDrive/Dataset/yes/'+image_name) #reading images\n",
        "    image = Image.fromarray(image , 'RGB') #convert to RGB format for compatibility with opencv\n",
        "    image = image.resize((64,64))\n",
        "    dataset.append(np.array(image))\n",
        "    label.append(1) #no brain_tumor has label of 0"
      ],
      "metadata": {
        "id": "ag_XkMFw9onq"
      },
      "execution_count": null,
      "outputs": []
    },
    {
      "cell_type": "code",
      "source": [
        "dataset = np.array(dataset)\n",
        "label = np.array(label)"
      ],
      "metadata": {
        "id": "LzNsZNpdBIxJ"
      },
      "execution_count": null,
      "outputs": []
    },
    {
      "cell_type": "markdown",
      "source": [
        "##Splitting dataset into train and test set"
      ],
      "metadata": {
        "id": "NzhmnnOsBvBr"
      }
    },
    {
      "cell_type": "code",
      "source": [
        "x_train , x_test , y_train , y_test = train_test_split(dataset , label , test_size = 0.2 , random_state = 0)\n"
      ],
      "metadata": {
        "id": "ofyQgwezBx6_"
      },
      "execution_count": null,
      "outputs": []
    },
    {
      "cell_type": "markdown",
      "source": [
        "##Normalizing the data"
      ],
      "metadata": {
        "id": "C93bO9axGA9W"
      }
    },
    {
      "cell_type": "code",
      "source": [
        "x_train = normalize(x_train)\n",
        "x_test = normalize(x_test)"
      ],
      "metadata": {
        "id": "U1xW6c1FFYpZ"
      },
      "execution_count": null,
      "outputs": []
    },
    {
      "cell_type": "markdown",
      "source": [
        "##convert y_train and y_test to categorical"
      ],
      "metadata": {
        "id": "ZiZZY1ySM6pu"
      }
    },
    {
      "cell_type": "code",
      "source": [
        "y_train = to_categorical(y_train , num_classes = 2)\n",
        "y_test = to_categorical(y_test , num_classes = 2)"
      ],
      "metadata": {
        "id": "zTSeDc30M-fe"
      },
      "execution_count": null,
      "outputs": []
    },
    {
      "cell_type": "code",
      "source": [
        "y_train.shape"
      ],
      "metadata": {
        "colab": {
          "base_uri": "https://localhost:8080/"
        },
        "id": "sIVR4UeqQnL8",
        "outputId": "74a23bc7-0309-4eb0-91eb-fa00a2dec6e4"
      },
      "execution_count": null,
      "outputs": [
        {
          "output_type": "execute_result",
          "data": {
            "text/plain": [
              "(2400, 2, 2)"
            ]
          },
          "metadata": {},
          "execution_count": 33
        }
      ]
    },
    {
      "cell_type": "markdown",
      "source": [
        "#Building the Model"
      ],
      "metadata": {
        "id": "Y0rAq-ymGtYJ"
      }
    },
    {
      "cell_type": "code",
      "source": [
        "model = Sequential()\n",
        "model.add(Conv2D(32 , (3,3) , input_shape = (64,64,3)))\n",
        "model.add(Activation('relu'))\n",
        "model.add(MaxPooling2D(pool_size=(2,2)))\n",
        "\n",
        "model.add(Conv2D(32 , (3,3) , kernel_initializer='he_uniform'))\n",
        "model.add(Activation('relu'))\n",
        "model.add(MaxPooling2D(pool_size=(2,2)))\n",
        "\n",
        "model.add(Conv2D(64 , (3,3) , kernel_initializer='he_uniform'))\n",
        "model.add(Activation('relu'))\n",
        "model.add(MaxPooling2D(pool_size=(2,2)))\n",
        "\n",
        "model.add(Flatten())\n",
        "model.add(Dense(64))\n",
        "model.add(Activation('relu'))\n",
        "model.add(Dropout(0.5))\n",
        "\n",
        "#output layer\n",
        "model.add(Dense(1))\n",
        "model.add(Activation('sigmoid'))\n",
        "\n",
        "model.compile(loss = 'binary_crossentropy' , optimizer = 'adam' , metrics = ['accuracy'])"
      ],
      "metadata": {
        "id": "hN6H_OHNGuwA"
      },
      "execution_count": 56,
      "outputs": []
    },
    {
      "cell_type": "markdown",
      "source": [
        "##Training the Model"
      ],
      "metadata": {
        "id": "RxnYYu7KLB4W"
      }
    },
    {
      "cell_type": "code",
      "source": [
        "model.fit(x_train , y_train , batch_size = 32 , verbose=1 , epochs = 13 , validation_data = (x_test , y_test) , shuffle = False)\n",
        "model.save('BrainTumor10Epochs.h5')"
      ],
      "metadata": {
        "colab": {
          "base_uri": "https://localhost:8080/"
        },
        "id": "BFRVp8vrLHZx",
        "outputId": "5b922525-81d9-4f64-abd9-c6401431d535"
      },
      "execution_count": 59,
      "outputs": [
        {
          "output_type": "stream",
          "name": "stdout",
          "text": [
            "Epoch 1/13\n",
            "75/75 [==============================] - 1s 9ms/step - loss: 0.1596 - accuracy: 0.9004 - val_loss: 0.4929 - val_accuracy: 0.8650\n",
            "Epoch 2/13\n",
            "75/75 [==============================] - 1s 7ms/step - loss: 0.1515 - accuracy: 0.9083 - val_loss: 0.5180 - val_accuracy: 0.8583\n",
            "Epoch 3/13\n",
            "75/75 [==============================] - 1s 9ms/step - loss: 0.1488 - accuracy: 0.9142 - val_loss: 0.5339 - val_accuracy: 0.8717\n",
            "Epoch 4/13\n",
            "75/75 [==============================] - 1s 10ms/step - loss: 0.1546 - accuracy: 0.9033 - val_loss: 0.5039 - val_accuracy: 0.8683\n",
            "Epoch 5/13\n",
            "75/75 [==============================] - 1s 9ms/step - loss: 0.1507 - accuracy: 0.9092 - val_loss: 0.4855 - val_accuracy: 0.8617\n",
            "Epoch 6/13\n",
            "75/75 [==============================] - 1s 10ms/step - loss: 0.1507 - accuracy: 0.9104 - val_loss: 0.5776 - val_accuracy: 0.8617\n",
            "Epoch 7/13\n",
            "75/75 [==============================] - 1s 9ms/step - loss: 0.1525 - accuracy: 0.9083 - val_loss: 0.6270 - val_accuracy: 0.8483\n",
            "Epoch 8/13\n",
            "75/75 [==============================] - 1s 9ms/step - loss: 0.1680 - accuracy: 0.9017 - val_loss: 0.5933 - val_accuracy: 0.8517\n",
            "Epoch 9/13\n",
            "75/75 [==============================] - 1s 7ms/step - loss: 0.1576 - accuracy: 0.9062 - val_loss: 0.5451 - val_accuracy: 0.8550\n",
            "Epoch 10/13\n",
            "75/75 [==============================] - 1s 7ms/step - loss: 0.1510 - accuracy: 0.9075 - val_loss: 0.5706 - val_accuracy: 0.8500\n",
            "Epoch 11/13\n",
            "75/75 [==============================] - 1s 7ms/step - loss: 0.1459 - accuracy: 0.9087 - val_loss: 0.5735 - val_accuracy: 0.8600\n",
            "Epoch 12/13\n",
            "75/75 [==============================] - 0s 7ms/step - loss: 0.1480 - accuracy: 0.9087 - val_loss: 0.5534 - val_accuracy: 0.8500\n",
            "Epoch 13/13\n",
            "75/75 [==============================] - 0s 7ms/step - loss: 0.1482 - accuracy: 0.9075 - val_loss: 0.6617 - val_accuracy: 0.8550\n"
          ]
        }
      ]
    },
    {
      "cell_type": "markdown",
      "source": [
        "#Testing the model"
      ],
      "metadata": {
        "id": "i7Sv_hfFRcTM"
      }
    },
    {
      "cell_type": "code",
      "source": [
        "test_image = cv2.imread('/content/drive/MyDrive/pred/pred0.jpg') #no_tumor_scan\n",
        "img = Image.fromarray(test_image)\n",
        "img = img.resize((64,64))\n",
        "img = np.array(img)\n",
        "input_img = np.expand_dims(img,axis=0)\n",
        "result1 = model.predict(input_img)\n",
        "print(result1)"
      ],
      "metadata": {
        "id": "JKyCAZVzRfDG",
        "colab": {
          "base_uri": "https://localhost:8080/"
        },
        "outputId": "7e8780fd-f5b6-45d4-fcfa-be78305f18f3"
      },
      "execution_count": 48,
      "outputs": [
        {
          "output_type": "stream",
          "name": "stdout",
          "text": [
            "1/1 [==============================] - 0s 19ms/step\n",
            "[[0.]]\n"
          ]
        }
      ]
    }
  ]
}